{
 "cells": [
  {
   "cell_type": "code",
   "execution_count": 67,
   "metadata": {},
   "outputs": [],
   "source": [
    "import torch.utils.data as data\n",
    "from PIL import Image\n",
    "import os\n",
    "import os.path\n",
    "import torch\n",
    "import numpy as np\n",
    "import torchvision.transforms as transforms\n",
    "import argparse\n",
    "import time\n",
    "import random\n",
    "import numpy.ma as ma\n",
    "import copy\n",
    "import scipy.misc\n",
    "import scipy.io as scio\n",
    "from lib.proj_utils import *\n",
    "from lib.transformations import translation_matrix, quaternion_matrix, quaternion_from_matrix\n",
    "import quaternion as qua\n",
    "from so3_data import *"
   ]
  },
  {
   "cell_type": "code",
   "execution_count": 57,
   "metadata": {},
   "outputs": [],
   "source": [
    "cat = \"car\"\n",
    "data_dir = \"/hdd/zen/dev/6dof/6dof_data/\"\n",
    "# data_dir = \"/home/qiaog/courses/16720B-project/SO3/data\"\n",
    "model_index = \"0001\"\n",
    "index = 0\n",
    "cld = read_pointxyz( os.path.join(data_dir, cat +\"_ycb\", \"models\"))\n",
    "# value, boxes, img_color, depth_img, semantic = diplay_gen_ycb(cat, data_dir, cld, model_index, index)"
   ]
  },
  {
   "cell_type": "code",
   "execution_count": null,
   "metadata": {},
   "outputs": [],
   "source": []
  },
  {
   "cell_type": "code",
   "execution_count": null,
   "metadata": {},
   "outputs": [],
   "source": []
  },
  {
   "cell_type": "code",
   "execution_count": 68,
   "metadata": {},
   "outputs": [],
   "source": [
    "class PoseDataset(data.Dataset):\n",
    "    def __init__(self, mode, root, transforms=None):\n",
    "        self.transforms = transforms\n",
    "        self.root = root\n",
    "        if mode == 'train':\n",
    "            self.path = os.path.join(root,'dataset_config/train_data_list.txt')\n",
    "        elif mode == 'test':\n",
    "            self.path = os.path.join(root,'dataset_config/test_data_list.txt')\n",
    "\n",
    "        self.list = []\n",
    "        with open(self.path) as f:\n",
    "            for input_line in f:\n",
    "                self.list.append(input_line.strip())\n",
    "\n",
    "        self.length = len(self.list)\n",
    "        class_file = open(os.path.join(root,'dataset_config/classes.txt'))\n",
    "\n",
    "        self.models = read_pointxyz(os.path.join(root,'models'))\n",
    "        print(len(self.list))\n",
    "\n",
    "    def __getitem__(self, index):\n",
    "\n",
    "        try:\n",
    "            img = np.array(Image.open('{0}/{1}-color.png'.format(self.root, self.list[index])))[:,:,:3]\n",
    "            depth = np.load(('{0}/{1}-depth.npy'.format(self.root, self.list[index])))\n",
    "            label = np.array(Image.open('{0}/{1}-label.png'.format(self.root, self.list[index])))\n",
    "            meta = scio.loadmat('{0}/{1}-meta.mat'.format(self.root, self.list[index]))\n",
    "        except Exception as e:\n",
    "            print(e)\n",
    "            print(self.list[index])\n",
    "        [print(k) for k, v in meta.items()]\n",
    "        obj = meta['cls_indexes'].flatten().astype(np.int32)\n",
    "        model_id = meta['model_id'][0]\n",
    "        model_points = self.models[model_id]\n",
    "        idx = np.random.randint(0, len(obj))\n",
    "        boxes = meta['box']\n",
    "        cmin, rmin, cmax, rmax = [int(i) for i in boxes[0]]\n",
    "        cam = meta['intrinsic_matrix']\n",
    "\n",
    "        pose = meta['poses'][:, :, idx]\n",
    "        pose[:, 2] *= -1\n",
    "        target_r = qua.as_float_array(qua.from_rotation_matrix(pose))\n",
    "\n",
    "        # target_r= meta['poses'][:, :, idx][:, :3]\n",
    "\n",
    "        target_t = np.array([meta['poses'][:, :, idx][:, 3:4].flatten()])\n",
    "#         target_pose =  meta['poses'][:, :, idx]\n",
    "#         print(np.linalg.det(target_r))\n",
    "        cam_scale = meta['factor_depth'][0][0]\n",
    "        if self.transforms:\n",
    "            img = self.transforms(img)\n",
    "\n",
    "        return img, \\\n",
    "               torch.from_numpy(depth.astype(np.float32)), \\\n",
    "               torch.from_numpy(boxes.astype(np.float32)), \\\n",
    "               torch.from_numpy(label.astype(np.float32)), \\\n",
    "               torch.from_numpy(target_r.astype(np.float32)), \\\n",
    "               torch.from_numpy(target_t.astype(np.float32)), \\\n",
    "               torch.from_numpy(pose.astype(np.float32)), \\\n",
    "               torch.from_numpy(cam.astype(np.float32)), \\\n",
    "               model_id\n",
    "\n",
    "    def __len__(self):\n",
    "        return self.length\n",
    "\n",
    "    def get_sym_list(self):\n",
    "        return self.symmetry_obj_idx\n",
    "\n",
    "    def get_num_points_mesh(self):\n",
    "        if self.refine:\n",
    "            return self.num_pt_mesh_large\n",
    "        else:\n",
    "            return self.num_pt_mesh_small\n"
   ]
  },
  {
   "cell_type": "code",
   "execution_count": 69,
   "metadata": {},
   "outputs": [
    {
     "name": "stdout",
     "output_type": "stream",
     "text": [
      "400\n",
      "100\n"
     ]
    }
   ],
   "source": [
    "import matplotlib.pyplot as plt\n",
    "dataset_root = \"/hdd/zen/dev/6dof/6dof_data/car_ycb\"\n",
    "# dataset_root = \"/home/qiaog/courses/16720B-project/SO3/data/car_ycb\"\n",
    "transform=transforms.Compose([transforms.ToTensor()])\n",
    "train_dataset = PoseDataset('train', dataset_root, transforms=transform)\n",
    "train_loader = torch.utils.data.DataLoader(train_dataset, batch_size=8, shuffle=False, num_workers=1)\n",
    "\n",
    "test_dataset = PoseDataset('test', dataset_root, transforms=transform)\n",
    "test_loader = torch.utils.data.DataLoader(test_dataset, batch_size=8, shuffle=False, num_workers=1)\n"
   ]
  },
  {
   "cell_type": "code",
   "execution_count": 70,
   "metadata": {
    "scrolled": false
   },
   "outputs": [
    {
     "name": "stdout",
     "output_type": "stream",
     "text": [
      "__header__\n",
      "__version__\n",
      "__globals__\n",
      "intrinsic_matrix\n",
      "poses\n",
      "factor_depth\n",
      "center\n",
      "cls_indexes\n",
      "scale\n",
      "model_id\n",
      "box\n",
      "__header__\n",
      "__version__\n",
      "__globals__\n",
      "intrinsic_matrix\n",
      "poses\n",
      "factor_depth\n",
      "center\n",
      "cls_indexes\n",
      "scale\n",
      "model_id\n",
      "box\n",
      "__header__\n",
      "__version__\n",
      "__globals__\n",
      "intrinsic_matrix\n",
      "poses\n",
      "factor_depth\n",
      "center\n",
      "cls_indexes\n",
      "scale\n",
      "model_id\n",
      "box\n",
      "__header__\n",
      "__version__\n",
      "__globals__\n",
      "intrinsic_matrix\n",
      "poses\n",
      "factor_depth\n",
      "center\n",
      "cls_indexes\n",
      "scale\n",
      "model_id\n",
      "box\n",
      "__header__\n",
      "__version__\n",
      "__globals__\n",
      "intrinsic_matrix\n",
      "poses\n",
      "factor_depth\n",
      "center\n",
      "cls_indexes\n",
      "scale\n",
      "model_id\n",
      "box\n",
      "__header__\n",
      "__version__\n",
      "__globals__\n",
      "intrinsic_matrix\n",
      "poses\n",
      "factor_depth\n",
      "center\n",
      "cls_indexes\n",
      "scale\n",
      "model_id\n",
      "box\n",
      "__header__\n",
      "__version__\n",
      "__globals__\n",
      "intrinsic_matrix\n",
      "poses\n",
      "factor_depth\n",
      "center\n",
      "cls_indexes\n",
      "scale\n",
      "model_id\n",
      "box\n",
      "__header__\n",
      "__version__\n",
      "__globals__\n",
      "intrinsic_matrix\n",
      "poses\n",
      "factor_depth\n",
      "center\n",
      "cls_indexes\n",
      "scale\n",
      "model_id\n",
      "box\n",
      "__header__\n",
      "__version__\n",
      "__globals__\n",
      "intrinsic_matrix\n",
      "poses\n",
      "factor_depth\n",
      "center\n",
      "cls_indexes\n",
      "scale\n",
      "model_id\n",
      "box\n",
      "__header__\n",
      "__version__\n",
      "__globals__\n",
      "intrinsic_matrix\n",
      "poses\n",
      "factor_depth\n",
      "center\n",
      "cls_indexes\n",
      "scale\n",
      "model_id\n",
      "box\n",
      "__header__\n",
      "__version__\n",
      "__globals__\n",
      "intrinsic_matrix\n",
      "poses\n"
     ]
    },
    {
     "data": {
      "application/vnd.jupyter.widget-view+json": {
       "model_id": "49ac0a863fc147c1821ea72ea35aa0ea",
       "version_major": 2,
       "version_minor": 0
      },
      "text/plain": [
       "Canvas(toolbar=Toolbar(toolitems=[('Home', 'Reset original view', 'home', 'home'), ('Back', 'Back to previous …"
      ]
     },
     "metadata": {},
     "output_type": "display_data"
    },
    {
     "name": "stdout",
     "output_type": "stream",
     "text": [
      "factor_depth\n",
      "center\n",
      "cls_indexes\n",
      "scale\n",
      "model_id\n",
      "box\n",
      "__header__\n",
      "__version__\n",
      "__globals__\n",
      "intrinsic_matrix\n",
      "poses\n",
      "factor_depth\n",
      "center\n",
      "cls_indexes\n",
      "scale\n",
      "model_id\n",
      "box\n",
      "__header__\n",
      "__version__\n",
      "__globals__\n",
      "intrinsic_matrix\n",
      "poses\n",
      "factor_depth\n",
      "center\n",
      "box\n",
      "cls_indexes\n",
      "scale\n",
      "model_id\n",
      "__header__\n",
      "__version__\n",
      "__globals__\n",
      "intrinsic_matrix\n",
      "poses\n",
      "factor_depth\n",
      "center\n",
      "cls_indexes\n",
      "scale\n",
      "model_id\n",
      "box\n",
      "__header__\n",
      "__version__\n",
      "__globals__\n",
      "intrinsic_matrix\n",
      "poses\n",
      "factor_depth\n",
      "center\n",
      "cls_indexes\n",
      "scale\n",
      "model_id\n",
      "box\n",
      "__header__\n",
      "__version__\n",
      "intrinsic_matrix\n",
      "__globals__\n",
      "poses\n",
      "factor_depth\n",
      "center\n",
      "cls_indexes\n",
      "scale\n",
      "model_id\n",
      "box\n"
     ]
    },
    {
     "data": {
      "application/vnd.jupyter.widget-view+json": {
       "model_id": "1eabe386385c4439af006921ffb7d7b3",
       "version_major": 2,
       "version_minor": 0
      },
      "text/plain": [
       "Canvas(toolbar=Toolbar(toolitems=[('Home', 'Reset original view', 'home', 'home'), ('Back', 'Back to previous …"
      ]
     },
     "metadata": {},
     "output_type": "display_data"
    },
    {
     "name": "stdout",
     "output_type": "stream",
     "text": [
      "__header__\n",
      "__version__\n",
      "__globals__\n",
      "intrinsic_matrix\n",
      "poses\n",
      "factor_depth\n",
      "center\n",
      "cls_indexes\n",
      "scale\n",
      "model_id\n",
      "box\n",
      "__header__\n",
      "__version__\n",
      "model_id\n",
      "__globals__\n",
      "intrinsic_matrix\n",
      "poses\n",
      "factor_depth\n",
      "center\n",
      "cls_indexes\n",
      "scale\n",
      "box\n",
      "__header__\n",
      "__version__\n",
      "__globals__\n",
      "intrinsic_matrix\n",
      "poses\n",
      "factor_depth\n",
      "center\n",
      "cls_indexes\n",
      "scale\n",
      "model_id\n",
      "box\n",
      "__header__\n",
      "__version__\n",
      "__globals__\n",
      "intrinsic_matrix\n",
      "poses\n",
      "factor_depth\n",
      "center\n",
      "cls_indexes\n",
      "scale\n",
      "model_id\n"
     ]
    },
    {
     "data": {
      "application/vnd.jupyter.widget-view+json": {
       "model_id": "c221324bc5da4971b27716541c0f2bc8",
       "version_major": 2,
       "version_minor": 0
      },
      "text/plain": [
       "Canvas(toolbar=Toolbar(toolitems=[('Home', 'Reset original view', 'home', 'home'), ('Back', 'Back to previous …"
      ]
     },
     "metadata": {},
     "output_type": "display_data"
    },
    {
     "name": "stdout",
     "output_type": "stream",
     "text": [
      "box\n",
      "__header__\n",
      "__version__\n",
      "__globals__\n",
      "intrinsic_matrix\n",
      "poses\n",
      "factor_depth\n",
      "center\n",
      "cls_indexes\n",
      "scale\n",
      "model_id\n",
      "box\n",
      "__header__\n",
      "__version__\n",
      "__globals__\n",
      "intrinsic_matrix\n",
      "poses\n",
      "factor_depth\n",
      "center\n",
      "cls_indexes\n",
      "scale\n",
      "model_id\n",
      "box\n",
      "__header__\n",
      "__version__\n",
      "__globals__\n",
      "intrinsic_matrix\n",
      "poses\n",
      "factor_depth\n",
      "center\n",
      "cls_indexes\n",
      "scale\n",
      "model_id\n",
      "box\n",
      "__header__\n",
      "__version__\n",
      "__globals__\n",
      "intrinsic_matrix\n",
      "poses\n",
      "factor_depth\n",
      "center\n",
      "cls_indexes\n",
      "scale\n",
      "model_id\n",
      "box\n"
     ]
    },
    {
     "data": {
      "application/vnd.jupyter.widget-view+json": {
       "model_id": "2390cebc40784bfb9ee0d094acb90a90",
       "version_major": 2,
       "version_minor": 0
      },
      "text/plain": [
       "Canvas(toolbar=Toolbar(toolitems=[('Home', 'Reset original view', 'home', 'home'), ('Back', 'Back to previous …"
      ]
     },
     "metadata": {},
     "output_type": "display_data"
    },
    {
     "data": {
      "application/vnd.jupyter.widget-view+json": {
       "model_id": "1f808d84b14b473bba0a7360a6f0ff72",
       "version_major": 2,
       "version_minor": 0
      },
      "text/plain": [
       "Canvas(toolbar=Toolbar(toolitems=[('Home', 'Reset original view', 'home', 'home'), ('Back', 'Back to previous …"
      ]
     },
     "metadata": {},
     "output_type": "display_data"
    },
    {
     "data": {
      "application/vnd.jupyter.widget-view+json": {
       "model_id": "20e58765e5324834b3d7162585ba3c65",
       "version_major": 2,
       "version_minor": 0
      },
      "text/plain": [
       "Canvas(toolbar=Toolbar(toolitems=[('Home', 'Reset original view', 'home', 'home'), ('Back', 'Back to previous …"
      ]
     },
     "metadata": {},
     "output_type": "display_data"
    },
    {
     "data": {
      "application/vnd.jupyter.widget-view+json": {
       "model_id": "3503e519d53a4ba3801f7a1b40c4f711",
       "version_major": 2,
       "version_minor": 0
      },
      "text/plain": [
       "Canvas(toolbar=Toolbar(toolitems=[('Home', 'Reset original view', 'home', 'home'), ('Back', 'Back to previous …"
      ]
     },
     "metadata": {},
     "output_type": "display_data"
    },
    {
     "data": {
      "application/vnd.jupyter.widget-view+json": {
       "model_id": "786c2b6eea2949dd8255e5890c8a9442",
       "version_major": 2,
       "version_minor": 0
      },
      "text/plain": [
       "Canvas(toolbar=Toolbar(toolitems=[('Home', 'Reset original view', 'home', 'home'), ('Back', 'Back to previous …"
      ]
     },
     "metadata": {},
     "output_type": "display_data"
    }
   ],
   "source": [
    "\n",
    "## Data inspection \n",
    "for i, d in enumerate(train_loader, 0):\n",
    "    img, depth, boxes, label, pose_r, pose_t, pose, cam,idx= d\n",
    "#     for i in range(2, 3):\n",
    "    for i in range(img.shape[0]):\n",
    "        display_load_img(img[i], depth[i], boxes[i][0], label[i], cam[i], pose_t[i], pose_r[i], pose[i], train_dataset.models[idx[i]])\n",
    "#         print(np.linalg.det(pose[i][:3,:3]), i)\n",
    "#         print(\"------------------------------------------------------------------------------------------\")\n",
    "    break\n",
    "\n"
   ]
  },
  {
   "cell_type": "code",
   "execution_count": 203,
   "metadata": {},
   "outputs": [],
   "source": [
    "%matplotlib widget\n",
    "# %matplotlib inline"
   ]
  },
  {
   "cell_type": "code",
   "execution_count": 204,
   "metadata": {},
   "outputs": [],
   "source": [
    "blender_cam = np.matrix([[1, 0, 0],\n",
    "[0, -1, 0],\n",
    "[0, 0, -1]])\n",
    "\n",
    "blender_left = np.matrix([[1, 0, 0],\n",
    "[0, 0, 1],\n",
    "[0, 1, 0]])"
   ]
  },
  {
   "cell_type": "code",
   "execution_count": 205,
   "metadata": {},
   "outputs": [
    {
     "data": {
      "application/vnd.jupyter.widget-view+json": {
       "model_id": "c63d877d7c2441f2a68b0db5c4ab6408",
       "version_major": 2,
       "version_minor": 0
      },
      "text/plain": [
       "FigureCanvasNbAgg()"
      ]
     },
     "metadata": {},
     "output_type": "display_data"
    },
    {
     "data": {
      "application/vnd.jupyter.widget-view+json": {
       "model_id": "56c1d9e2377743e7becfca6dbe2273e2",
       "version_major": 2,
       "version_minor": 0
      },
      "text/plain": [
       "FigureCanvasNbAgg()"
      ]
     },
     "metadata": {},
     "output_type": "display_data"
    }
   ],
   "source": [
    "# Data Training loop \n",
    "# for i, data in enumerate(train_loader, 0):\n",
    "#     img, depth, boxes, label, pose_r, pose_t,  cam,idx= data\n",
    "#     print(pose_r.shape)\n",
    "#     quat = quaternion_from_matrix(pose_r)\n",
    "#     break\n",
    "from mpl_toolkits.mplot3d import Axes3D\n",
    "fig = plt.figure()\n",
    "ax = fig.add_subplot(111, projection='3d')\n",
    "# ax.invert_zaxis()\n",
    "pts = np.copy(cld['0001'])\n",
    "point3d = np.matrix.transpose(np.hstack((np.matrix(pts), np.ones(len(pts)).reshape(-1, 1))))\n",
    "ax.scatter(point3d[0,:], point3d[2,:], point3d[1,:])\n",
    "ax.set_xlabel('X Label')\n",
    "ax.set_ylabel('Z Label')\n",
    "ax.set_zlabel('Y Label')\n",
    "\n",
    "plt.show()\n",
    "\n",
    "\n",
    "fig = plt.figure()\n",
    "ax = fig.add_subplot(111, projection='3d')\n",
    "pts = np.copy(cld['0001'])\n",
    "point3d = np.matrix.transpose(np.hstack((np.matrix(pts), np.ones(len(pts)).reshape(-1, 1))))\n",
    "iden_rot = np.identity(4)[:3,:]\n",
    "\n",
    "iden_rot[:3, :3] = pose[i][:3,:3]\n",
    "# ax.invert_zaxis()\n",
    "point3d_ref = np.matmul(iden_rot, point3d)\n",
    "ax.scatter(point3d_ref[0,:], point3d_ref[2,:], point3d_ref[1,:])\n",
    "ax.set_xlabel('X Label')\n",
    "ax.set_ylabel('Z Label')\n",
    "ax.set_zlabel('Y Label')\n",
    "plt.show()"
   ]
  },
  {
   "cell_type": "code",
   "execution_count": 206,
   "metadata": {},
   "outputs": [
    {
     "data": {
      "text/plain": [
       "0.42429438"
      ]
     },
     "execution_count": 206,
     "metadata": {},
     "output_type": "execute_result"
    }
   ],
   "source": [
    "def comp_rog(rog1, rog2):\n",
    "    a1 = np.linalg.norm(rog1)\n",
    "    a2 = np.linalg.norm(rog2)    \n",
    "    v1 = rog1/a1\n",
    "    v2 = rog2/a2\n",
    "    dist = np.linalg.norm(v1 - v2)\n",
    "    ang_dist = np.abs(a1 - a2)\n",
    "    return dist + ang_dist\n",
    "\n",
    "rog1 = cv2.Rodrigues(pose[0][:3,:3].numpy())[0]\n",
    "rog2 = cv2.Rodrigues(pose[1][:3,:3].numpy())[0]\n",
    "comp_rog(rog1, rog2)"
   ]
  },
  {
   "cell_type": "code",
   "execution_count": 207,
   "metadata": {},
   "outputs": [
    {
     "data": {
      "text/plain": [
       "20194.196052696872"
      ]
     },
     "execution_count": 207,
     "metadata": {},
     "output_type": "execute_result"
    }
   ],
   "source": [
    "def comp_rotation(points, rot1, rot2):\n",
    "    pt1_proj = rot1.dot(points)\n",
    "    pt2_proj = rot2.dot(points)\n",
    "    distance = np.sum(np.linalg.norm(pt1_proj - pt2_proj, axis=0))\n",
    "    return distance \n",
    "\n",
    "points =  np.copy(cld['0001']).T\n",
    "rot1 = pose[0][:3,:3].numpy()\n",
    "rot2 = pose[3][:3,:3].numpy()\n",
    "comp_rotation(points, rot1, rot2)"
   ]
  },
  {
   "cell_type": "code",
   "execution_count": 208,
   "metadata": {},
   "outputs": [
    {
     "ename": "NotImplementedError",
     "evalue": "It is not currently possible to manually set the aspect on 3D axes",
     "output_type": "error",
     "traceback": [
      "\u001b[0;31m---------------------------------------------------------------------------\u001b[0m",
      "\u001b[0;31mNotImplementedError\u001b[0m                       Traceback (most recent call last)",
      "\u001b[0;32m<ipython-input-208-a86ed3f753cd>\u001b[0m in \u001b[0;36m<module>\u001b[0;34m\u001b[0m\n\u001b[1;32m      1\u001b[0m \u001b[0;32mfor\u001b[0m \u001b[0mk\u001b[0m\u001b[0;34m,\u001b[0m \u001b[0mpts\u001b[0m \u001b[0;32min\u001b[0m \u001b[0mcld\u001b[0m\u001b[0;34m.\u001b[0m\u001b[0mitems\u001b[0m\u001b[0;34m(\u001b[0m\u001b[0;34m)\u001b[0m\u001b[0;34m:\u001b[0m\u001b[0;34m\u001b[0m\u001b[0;34m\u001b[0m\u001b[0m\n\u001b[1;32m      2\u001b[0m     \u001b[0;31m# pts = cld['0001']\u001b[0m\u001b[0;34m\u001b[0m\u001b[0;34m\u001b[0m\u001b[0;34m\u001b[0m\u001b[0m\n\u001b[0;32m----> 3\u001b[0;31m     \u001b[0mplt\u001b[0m\u001b[0;34m.\u001b[0m\u001b[0maxis\u001b[0m\u001b[0;34m(\u001b[0m\u001b[0;34m'square'\u001b[0m\u001b[0;34m)\u001b[0m\u001b[0;34m\u001b[0m\u001b[0;34m\u001b[0m\u001b[0m\n\u001b[0m\u001b[1;32m      4\u001b[0m     \u001b[0miden_rot\u001b[0m \u001b[0;34m=\u001b[0m \u001b[0mnp\u001b[0m\u001b[0;34m.\u001b[0m\u001b[0midentity\u001b[0m\u001b[0;34m(\u001b[0m\u001b[0;36m4\u001b[0m\u001b[0;34m)\u001b[0m\u001b[0;34m[\u001b[0m\u001b[0;34m:\u001b[0m\u001b[0;36m3\u001b[0m\u001b[0;34m,\u001b[0m\u001b[0;34m:\u001b[0m\u001b[0;34m]\u001b[0m\u001b[0;34m\u001b[0m\u001b[0;34m\u001b[0m\u001b[0m\n\u001b[1;32m      5\u001b[0m     \u001b[0miden_rot\u001b[0m\u001b[0;34m[\u001b[0m\u001b[0;34m:\u001b[0m\u001b[0;34m,\u001b[0m \u001b[0;36m3\u001b[0m\u001b[0;34m]\u001b[0m \u001b[0;34m=\u001b[0m \u001b[0mpose\u001b[0m\u001b[0;34m[\u001b[0m\u001b[0mi\u001b[0m\u001b[0;34m]\u001b[0m\u001b[0;34m[\u001b[0m\u001b[0;34m:\u001b[0m\u001b[0;34m,\u001b[0m\u001b[0;36m3\u001b[0m\u001b[0;34m]\u001b[0m\u001b[0;34m\u001b[0m\u001b[0;34m\u001b[0m\u001b[0m\n",
      "\u001b[0;32m/scratch/qiaog/anaconda3/envs/pose-cuda-10/lib/python3.7/site-packages/matplotlib/pyplot.py\u001b[0m in \u001b[0;36maxis\u001b[0;34m(*args, **kwargs)\u001b[0m\n\u001b[1;32m   2416\u001b[0m \u001b[0;34m@\u001b[0m\u001b[0mdocstring\u001b[0m\u001b[0;34m.\u001b[0m\u001b[0mcopy\u001b[0m\u001b[0;34m(\u001b[0m\u001b[0mAxes\u001b[0m\u001b[0;34m.\u001b[0m\u001b[0maxis\u001b[0m\u001b[0;34m)\u001b[0m\u001b[0;34m\u001b[0m\u001b[0;34m\u001b[0m\u001b[0m\n\u001b[1;32m   2417\u001b[0m \u001b[0;32mdef\u001b[0m \u001b[0maxis\u001b[0m\u001b[0;34m(\u001b[0m\u001b[0;34m*\u001b[0m\u001b[0margs\u001b[0m\u001b[0;34m,\u001b[0m \u001b[0;34m**\u001b[0m\u001b[0mkwargs\u001b[0m\u001b[0;34m)\u001b[0m\u001b[0;34m:\u001b[0m\u001b[0;34m\u001b[0m\u001b[0;34m\u001b[0m\u001b[0m\n\u001b[0;32m-> 2418\u001b[0;31m     \u001b[0;32mreturn\u001b[0m \u001b[0mgca\u001b[0m\u001b[0;34m(\u001b[0m\u001b[0;34m)\u001b[0m\u001b[0;34m.\u001b[0m\u001b[0maxis\u001b[0m\u001b[0;34m(\u001b[0m\u001b[0;34m*\u001b[0m\u001b[0margs\u001b[0m\u001b[0;34m,\u001b[0m \u001b[0;34m**\u001b[0m\u001b[0mkwargs\u001b[0m\u001b[0;34m)\u001b[0m\u001b[0;34m\u001b[0m\u001b[0;34m\u001b[0m\u001b[0m\n\u001b[0m\u001b[1;32m   2419\u001b[0m \u001b[0;34m\u001b[0m\u001b[0m\n\u001b[1;32m   2420\u001b[0m \u001b[0;34m\u001b[0m\u001b[0m\n",
      "\u001b[0;32m/scratch/qiaog/anaconda3/envs/pose-cuda-10/lib/python3.7/site-packages/matplotlib/axes/_base.py\u001b[0m in \u001b[0;36maxis\u001b[0;34m(self, *args, **kwargs)\u001b[0m\n\u001b[1;32m   1687\u001b[0m                     \u001b[0mself\u001b[0m\u001b[0;34m.\u001b[0m\u001b[0mset_aspect\u001b[0m\u001b[0;34m(\u001b[0m\u001b[0;34m'equal'\u001b[0m\u001b[0;34m,\u001b[0m \u001b[0madjustable\u001b[0m\u001b[0;34m=\u001b[0m\u001b[0;34m'box'\u001b[0m\u001b[0;34m,\u001b[0m \u001b[0manchor\u001b[0m\u001b[0;34m=\u001b[0m\u001b[0;34m'C'\u001b[0m\u001b[0;34m)\u001b[0m\u001b[0;34m\u001b[0m\u001b[0;34m\u001b[0m\u001b[0m\n\u001b[1;32m   1688\u001b[0m                 \u001b[0;32melif\u001b[0m \u001b[0ms\u001b[0m \u001b[0;34m==\u001b[0m \u001b[0;34m'square'\u001b[0m\u001b[0;34m:\u001b[0m\u001b[0;34m\u001b[0m\u001b[0;34m\u001b[0m\u001b[0m\n\u001b[0;32m-> 1689\u001b[0;31m                     \u001b[0mself\u001b[0m\u001b[0;34m.\u001b[0m\u001b[0mset_aspect\u001b[0m\u001b[0;34m(\u001b[0m\u001b[0;34m'equal'\u001b[0m\u001b[0;34m,\u001b[0m \u001b[0madjustable\u001b[0m\u001b[0;34m=\u001b[0m\u001b[0;34m'box'\u001b[0m\u001b[0;34m,\u001b[0m \u001b[0manchor\u001b[0m\u001b[0;34m=\u001b[0m\u001b[0;34m'C'\u001b[0m\u001b[0;34m)\u001b[0m\u001b[0;34m\u001b[0m\u001b[0;34m\u001b[0m\u001b[0m\n\u001b[0m\u001b[1;32m   1690\u001b[0m                     \u001b[0mself\u001b[0m\u001b[0;34m.\u001b[0m\u001b[0mset_autoscale_on\u001b[0m\u001b[0;34m(\u001b[0m\u001b[0;32mFalse\u001b[0m\u001b[0;34m)\u001b[0m\u001b[0;34m\u001b[0m\u001b[0;34m\u001b[0m\u001b[0m\n\u001b[1;32m   1691\u001b[0m                     \u001b[0mxlim\u001b[0m \u001b[0;34m=\u001b[0m \u001b[0mself\u001b[0m\u001b[0;34m.\u001b[0m\u001b[0mget_xlim\u001b[0m\u001b[0;34m(\u001b[0m\u001b[0;34m)\u001b[0m\u001b[0;34m\u001b[0m\u001b[0;34m\u001b[0m\u001b[0m\n",
      "\u001b[0;32m/scratch/qiaog/anaconda3/envs/pose-cuda-10/lib/python3.7/site-packages/matplotlib/axes/_base.py\u001b[0m in \u001b[0;36mset_aspect\u001b[0;34m(self, aspect, adjustable, anchor, share)\u001b[0m\n\u001b[1;32m   1279\u001b[0m         \u001b[0;32mif\u001b[0m \u001b[0;34m(\u001b[0m\u001b[0;32mnot\u001b[0m \u001b[0mcbook\u001b[0m\u001b[0;34m.\u001b[0m\u001b[0m_str_equal\u001b[0m\u001b[0;34m(\u001b[0m\u001b[0maspect\u001b[0m\u001b[0;34m,\u001b[0m \u001b[0;34m'auto'\u001b[0m\u001b[0;34m)\u001b[0m\u001b[0;34m)\u001b[0m \u001b[0;32mand\u001b[0m \u001b[0mself\u001b[0m\u001b[0;34m.\u001b[0m\u001b[0mname\u001b[0m \u001b[0;34m==\u001b[0m \u001b[0;34m'3d'\u001b[0m\u001b[0;34m:\u001b[0m\u001b[0;34m\u001b[0m\u001b[0;34m\u001b[0m\u001b[0m\n\u001b[1;32m   1280\u001b[0m             raise NotImplementedError(\n\u001b[0;32m-> 1281\u001b[0;31m                 \u001b[0;34m'It is not currently possible to manually set the aspect '\u001b[0m\u001b[0;34m\u001b[0m\u001b[0;34m\u001b[0m\u001b[0m\n\u001b[0m\u001b[1;32m   1282\u001b[0m                 'on 3D axes')\n\u001b[1;32m   1283\u001b[0m \u001b[0;34m\u001b[0m\u001b[0m\n",
      "\u001b[0;31mNotImplementedError\u001b[0m: It is not currently possible to manually set the aspect on 3D axes"
     ]
    }
   ],
   "source": [
    "\n",
    "for k, pts in cld.items():\n",
    "    # pts = cld['0001']\n",
    "    plt.axis('square')\n",
    "    iden_rot = np.identity(4)[:3,:]\n",
    "    iden_rot[:, 3] = pose[i][:,3]\n",
    "    pts2d = project_to_img(cam[i], pose[i], pts)\n",
    "#     pts2d = project_to_img(cam[i], iden_rot, pts)\n",
    "    plt.scatter(pts2d[0,:], pts2d[1,:])\n",
    "    plt.xlim(0, 120)\n",
    "    plt.ylim(0, 120)\n",
    "#     plt.gca().invert_yaxis()\n",
    "\n",
    "    plt.show()"
   ]
  }
 ],
 "metadata": {
  "kernelspec": {
   "display_name": "Python [conda env:cv] *",
   "language": "python",
   "name": "conda-env-cv-py"
  },
  "language_info": {
   "codemirror_mode": {
    "name": "ipython",
    "version": 3
   },
   "file_extension": ".py",
   "mimetype": "text/x-python",
   "name": "python",
   "nbconvert_exporter": "python",
   "pygments_lexer": "ipython3",
   "version": "3.6.9"
  },
  "toc": {
   "base_numbering": 1,
   "nav_menu": {},
   "number_sections": true,
   "sideBar": true,
   "skip_h1_title": false,
   "title_cell": "Table of Contents",
   "title_sidebar": "Contents",
   "toc_cell": false,
   "toc_position": {},
   "toc_section_display": true,
   "toc_window_display": false
  }
 },
 "nbformat": 4,
 "nbformat_minor": 2
}
